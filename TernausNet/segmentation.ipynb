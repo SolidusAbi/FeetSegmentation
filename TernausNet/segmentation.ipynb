{
 "metadata": {
  "language_info": {
   "codemirror_mode": {
    "name": "ipython",
    "version": 3
   },
   "file_extension": ".py",
   "mimetype": "text/x-python",
   "name": "python",
   "nbconvert_exporter": "python",
   "pygments_lexer": "ipython3",
   "version": "3.8.5-final"
  },
  "orig_nbformat": 2,
  "kernelspec": {
   "name": "python3",
   "display_name": "Python 3",
   "language": "python"
  }
 },
 "nbformat": 4,
 "nbformat_minor": 2,
 "cells": [
  {
   "cell_type": "code",
   "execution_count": 1,
   "metadata": {},
   "outputs": [],
   "source": [
    "import os\n",
    "import torch\n",
    "from torch import Tensor\n",
    "from torch.utils.data import Dataset, DataLoader\n",
    "from torchvision import transforms\n",
    "\n",
    "import PIL\n",
    "from PIL import Image"
   ]
  },
  {
   "source": [
    "# Model and Dataset"
   ],
   "cell_type": "markdown",
   "metadata": {}
  },
  {
   "cell_type": "code",
   "execution_count": 2,
   "metadata": {},
   "outputs": [],
   "source": [
    "model = torch.jit.load(\"TorchScript/ternausnet.pt\")"
   ]
  },
  {
   "cell_type": "code",
   "execution_count": 3,
   "metadata": {},
   "outputs": [],
   "source": [
    "import itertools\n",
    "import re\n",
    "\n",
    "class CustomDataset(Dataset):\n",
    "    def __init__(self, directory: str, transform=None) -> None:\n",
    "        self.patients_dir = list(map( lambda x: os.path.join(directory, x), sorted(os.listdir(directory))))\n",
    "        self.files = list(map(lambda x: self.get_files(x), self.patients_dir))\n",
    "        self.files = list(itertools.chain(*self.files))\n",
    "        self.transform = transform\n",
    "        \n",
    "    def __len__(self) -> int:\n",
    "        return len(self.files)\n",
    "\n",
    "    def __getitem__(self, idx) -> Tensor:\n",
    "        img = Image.open(self.files[idx])\n",
    "        if self.transform:\n",
    "            img = self.transform(img)\n",
    "        \n",
    "        return img\n",
    "\n",
    "    def get_files(self, directory: str) -> list:\n",
    "        # regex_pattern = \"[^\\s]+(Depth|RGB)(_T[0-9]+)(\\.(png))$\"\n",
    "        regex_pattern = \"[^\\s]+(RGB_T[0-9]+)(\\.(png))$\"\n",
    "\n",
    "        result = []\n",
    "        files = sorted(os.listdir(directory))\n",
    "        for filename in files:\n",
    "            x = re.search(regex_pattern, filename)\n",
    "            if x:\n",
    "                result.append(os.path.join(directory, filename))\n",
    "\n",
    "        return result\n"
   ]
  },
  {
   "cell_type": "code",
   "execution_count": 4,
   "metadata": {},
   "outputs": [],
   "source": [
    "trans = transforms.Compose([\n",
    "            transforms.Resize([512,512], interpolation=PIL.Image.BICUBIC),\n",
    "            transforms.ToTensor(),\n",
    "            transforms.Normalize(mean = [0.485, 0.456, 0.406], std = [0.229, 0.224, 0.225])\n",
    "        ])\n",
    "\n",
    "dataset = CustomDataset(\"../DataTest/Images\", trans)"
   ]
  },
  {
   "source": [
    "# Segmentation"
   ],
   "cell_type": "markdown",
   "metadata": {}
  },
  {
   "cell_type": "code",
   "execution_count": 5,
   "metadata": {},
   "outputs": [],
   "source": [
    "from torchvision.utils import save_image\n",
    "loader = DataLoader(dataset, 5)\n",
    "\n",
    "results = []\n",
    "\n",
    "for idx, img in enumerate(loader):\n",
    "    sigmoid = torch.nn.Sigmoid()\n",
    "    img = img.cuda()\n",
    "    with torch.no_grad():\n",
    "        output = model(img)\n",
    "\n",
    "    output = sigmoid(output)\n",
    "    output[output < 0.75] = 0\n",
    "    output[output > 0] = 1\n",
    "\n",
    "    results.append(output.cpu())\n",
    "\n",
    "results = torch.cat(results)"
   ]
  },
  {
   "source": [
    "# Saving results"
   ],
   "cell_type": "markdown",
   "metadata": {}
  },
  {
   "cell_type": "code",
   "execution_count": 7,
   "metadata": {},
   "outputs": [],
   "source": [
    "save_dir = \"result/\""
   ]
  },
  {
   "cell_type": "code",
   "execution_count": 18,
   "metadata": {},
   "outputs": [
    {
     "output_type": "stream",
     "name": "stdout",
     "text": [
      "[255 255 255 ... 255 255 255]\n",
      "[255 255 255 ... 255 255 255]\n",
      "[255 255 255 ... 255 255 255]\n",
      "[255 255 255 ... 255 255 255]\n",
      "[255 255 255 ... 255 255 255]\n",
      "[255 255 255 ... 255 255 255]\n",
      "[255 255 255 ... 255 255 255]\n",
      "[255 255 255 ... 255 255 255]\n",
      "[255 255 255 ... 255 255 255]\n",
      "[255 255 255 ... 255 255 255]\n",
      "[255 255 255 ... 255 255 255]\n",
      "[255 255 255 ... 255 255 255]\n",
      "[255 255 255 ... 255 255 255]\n",
      "[255 255 255 ... 255 255 255]\n",
      "[255 255 255 ... 255 255 255]\n",
      "[255 255 255 ... 255 255 255]\n",
      "[255 255 255 ... 255 255 255]\n",
      "[255 255 255 ... 255 255 255]\n",
      "[255 255 255 ... 255 255 255]\n",
      "[255 255 255 ... 255 255 255]\n",
      "[255 255 255 ... 255 255 255]\n",
      "[255 255 255 ... 255 255 255]\n",
      "[255 255 255 ... 255 255 255]\n",
      "[255 255 255 ... 255 255 255]\n",
      "[255 255 255 ... 255 255 255]\n",
      "[255 255 255 ... 255 255 255]\n",
      "[255 255 255 ... 255 255 255]\n",
      "[255 255 255 ... 255 255 255]\n",
      "[255 255 255 ... 255 255 255]\n",
      "[255 255 255 ... 255 255 255]\n",
      "[255 255 255 ... 255 255 255]\n",
      "[255 255 255 ... 255 255 255]\n",
      "[255 255 255 ... 255 255 255]\n",
      "[255 255 255 ... 255 255 255]\n",
      "[255 255 255 ... 255 255 255]\n",
      "[255 255 255 ... 255 255 255]\n",
      "[255 255 255 ... 255 255 255]\n",
      "[255 255 255 ... 255 255 255]\n",
      "[255 255 255 ... 255 255 255]\n",
      "[255 255 255 ... 255 255 255]\n",
      "[255 255 255 ... 255 255 255]\n",
      "[255 255 255 ... 255 255 255]\n",
      "[255 255 255 ... 255 255 255]\n",
      "[255 255 255 ... 255 255 255]\n",
      "[255 255 255 ... 255 255 255]\n",
      "[255 255 255 ... 255 255 255]\n",
      "[255 255 255 ... 255 255 255]\n",
      "[255 255 255 ... 255 255 255]\n",
      "[255 255 255 ... 255 255 255]\n",
      "[255 255 255 ... 255 255 255]\n"
     ]
    }
   ],
   "source": [
    "toPil = transforms.ToPILImage()\n",
    "for idx, file in enumerate(dataset.files):\n",
    "    filename = os.path.basename(file)\n",
    "    patient = filename.split(\"_\")[0]\n",
    "\n",
    "    current_save_dir = os.path.join(save_dir, patient)\n",
    "    if not os.path.exists(current_save_dir):\n",
    "        os.mkdir(current_save_dir)\n",
    "\n",
    "    img = toPil(results[idx])\n",
    "    img.save(os.path.join(current_save_dir, filename))\n",
    "    # save_image(img, os.path.join(current_save_dir, filename))  "
   ]
  },
  {
   "cell_type": "code",
   "execution_count": null,
   "metadata": {},
   "outputs": [],
   "source": []
  }
 ]
}