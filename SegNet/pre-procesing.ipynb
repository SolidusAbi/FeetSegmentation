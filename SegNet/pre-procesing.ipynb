{
 "metadata": {
  "language_info": {
   "codemirror_mode": {
    "name": "ipython",
    "version": 3
   },
   "file_extension": ".py",
   "mimetype": "text/x-python",
   "name": "python",
   "nbconvert_exporter": "python",
   "pygments_lexer": "ipython3",
   "version": "3.7.9-final"
  },
  "orig_nbformat": 2,
  "kernelspec": {
   "name": "python3",
   "display_name": "Python 3.7.9 64-bit ('ImageProcessing': conda)",
   "metadata": {
    "interpreter": {
     "hash": "f3416acc9c2256365aaa69a0e0ab40f527bcfe6571cf4bb64be60f038795d1d1"
    }
   }
  }
 },
 "nbformat": 4,
 "nbformat_minor": 2,
 "cells": [
  {
   "cell_type": "code",
   "execution_count": 24,
   "metadata": {},
   "outputs": [],
   "source": [
    "from matplotlib import pyplot as plt\n",
    "import cv2\n",
    "import numpy as np"
   ]
  },
  {
   "source": [
    "# Descripción\n",
    "\n",
    "Este notebook se utiliza para convertir las imágenes tal y como se describe en el paper \"On the segmentation of plantar foot thermal images with Deep Learning\".\n",
    "\n",
    "Las imágenes se dividen por pie y los pies derecho son \"flipeados\" para estar en la misma dirección que los izquierdo. También se normaliza las imágenes de IR para que estén almacenadas en 8 bits."
   ],
   "cell_type": "markdown",
   "metadata": {}
  },
  {
   "cell_type": "code",
   "execution_count": 2,
   "metadata": {},
   "outputs": [],
   "source": [
    "dataset_dir = \"/home/abian/Workspace/Thesis/Segmentation/DataTest/\"\n",
    "images_dir = os.path.join(dataset_dir, 'Images')\n",
    "mask_dir = os.path.join(dataset_dir, 'Masks_Average_STAPLE')"
   ]
  },
  {
   "cell_type": "code",
   "execution_count": 3,
   "metadata": {},
   "outputs": [],
   "source": [
    "import re\n",
    "\n",
    "def get_IR_images(filenames: list) -> list:\n",
    "    regex_pattern = \"[^\\s]+(IR_T[0-9]+)(\\.(png))$\"\n",
    "    r = re.compile(regex_pattern)\n",
    "    return list(filter(r.match, filenames))\n",
    "\n",
    "def get_mask_images(subject: str, mask_dir: str) -> list:\n",
    "    regex_pattern = \"({})(.*)([L|R]_T[0-9]+.png)\".format(subject)\n",
    "    r = re.compile(regex_pattern)\n",
    "    filenames = os.listdir(mask_dir)\n",
    "    return list(filter(r.match, filenames))\n"
   ]
  },
  {
   "cell_type": "code",
   "execution_count": 96,
   "metadata": {},
   "outputs": [
    {
     "output_type": "stream",
     "name": "stdout",
     "text": [
      "Fin!\n"
     ]
    }
   ],
   "source": [
    "saving_dir = \"processed/images/\"\n",
    "saving_mask_dir = \"processed/masks/\"\n",
    "subjects = sorted(os.listdir(images_dir))\n",
    "\n",
    "for subject in subjects:\n",
    "    subject_img_dir = os.path.join(images_dir, subject)\n",
    "    ir_img_list = get_IR_images(os.listdir(subject_img_dir))\n",
    "    subject_masks = get_mask_images(subject, mask_dir)\n",
    "    \n",
    "    subject_save_dir = os.path.join(saving_dir, subject)\n",
    "    subject_mask_save_dir = os.path.join(saving_mask_dir, subject)\n",
    "    if not os.path.exists(subject_save_dir):\n",
    "        os.mkdir(subject_save_dir)\n",
    "    if not os.path.exists(subject_mask_save_dir):\n",
    "        os.mkdir(subject_mask_save_dir)\n",
    "    \n",
    "    for ir_img in sorted(ir_img_list):\n",
    "        T = ir_img.split(\"_\")[-1]\n",
    "        left_mask_filename, right_mask_filename = sorted([s for s in subject_masks if T in s])\n",
    "        \n",
    "        left_mask = cv2.imread(os.path.join(mask_dir, left_mask_filename), cv2.IMREAD_ANYDEPTH)\n",
    "        right_mask = cv2.imread(os.path.join(mask_dir, right_mask_filename), cv2.IMREAD_ANYDEPTH)\n",
    "        crop_w_right = np.argwhere(right_mask>0)[:,1].max() + 10\n",
    "        crop_left_mask = left_mask[0:288, crop_w_right:384]\n",
    "        crop_right_mask = right_mask[0:288, 0:crop_w_right]\n",
    "        \n",
    "        #flip el pie derecho\n",
    "        crop_right_mask = cv2.flip(crop_right_mask, 1)\n",
    "\n",
    "        cv2.imwrite(os.path.join(subject_mask_save_dir, right_mask_filename), crop_right_mask)\n",
    "        cv2.imwrite(os.path.join(subject_mask_save_dir, left_mask_filename), crop_left_mask)\n",
    "     \n",
    "        img = cv2.imread(os.path.join(subject_img_dir, ir_img), cv2.IMREAD_ANYDEPTH)\n",
    "        crop_img_right = img[0:288, 0:crop_w_right]\n",
    "        crop_img_left = img[0:288, crop_w_right:384]\n",
    "        crop_img_right = (crop_img_right / np.max(crop_img_right))*255 # Normalizar para que pillow lo lea bien (8 bits)\n",
    "        crop_img_left = (crop_img_left / np.max(crop_img_left))*255 # Normalizar para que pillow lo lea bien (8 bits)\n",
    "\n",
    "        #flip el pie derecho\n",
    "        crop_img_right = cv2.flip(crop_img_right, 1)\n",
    "\n",
    "        cv2.imwrite(os.path.join(subject_save_dir, ir_img.split(\".\")[0]+\"_R.png\"), crop_img_right.astype(np.uint8))\n",
    "        cv2.imwrite(os.path.join(subject_save_dir, ir_img.split(\".\")[0]+\"_L.png\"), crop_img_left.astype(np.uint8))\n",
    "\n",
    "\n",
    "\n",
    "print(\"Fin!\")"
   ]
  },
  {
   "cell_type": "code",
   "execution_count": null,
   "metadata": {},
   "outputs": [],
   "source": []
  }
 ]
}