{
 "metadata": {
  "language_info": {
   "codemirror_mode": {
    "name": "ipython",
    "version": 3
   },
   "file_extension": ".py",
   "mimetype": "text/x-python",
   "name": "python",
   "nbconvert_exporter": "python",
   "pygments_lexer": "ipython3",
   "version": "3.8.5-final"
  },
  "orig_nbformat": 2,
  "kernelspec": {
   "name": "python3",
   "display_name": "Python 3.8.5 64-bit ('DeepLearning': conda)",
   "metadata": {
    "interpreter": {
     "hash": "0b8b4ac5d0a82ced13579c253e3ebcf66f7b71cd01016ca2a6b9c5ad9c61843d"
    }
   }
  }
 },
 "nbformat": 4,
 "nbformat_minor": 2,
 "cells": [
  {
   "cell_type": "code",
   "execution_count": 1,
   "metadata": {},
   "outputs": [],
   "source": [
    "import os, sys, glob, pathlib, random\n",
    "import numpy as np\n",
    "\n",
    "from matplotlib import pyplot as plt\n",
    "from PIL import Image"
   ]
  },
  {
   "cell_type": "code",
   "execution_count": 2,
   "metadata": {},
   "outputs": [],
   "source": [
    "project_dir = os.path.split(os.getcwd())[0]"
   ]
  },
  {
   "source": [
    "# Augmentor"
   ],
   "cell_type": "markdown",
   "metadata": {}
  },
  {
   "cell_type": "code",
   "execution_count": 3,
   "metadata": {},
   "outputs": [],
   "source": [
    "augmentor_dir = os.path.join(project_dir, \"3rdParty/Augmentor/\")\n",
    "if augmentor_dir not in sys.path:\n",
    "    sys.path.append(augmentor_dir)\n",
    "\n",
    "from Augmentor import Operations as AugOper"
   ]
  },
  {
   "source": [
    "# Augmentation\n",
    "\n",
    "Se aplican de forma aleatoria las siguientes transformaciones:\n",
    "    \n",
    "* Distorción elástica\n",
    "* Zoom\n",
    "* Rotación"
   ],
   "cell_type": "markdown",
   "metadata": {}
  },
  {
   "cell_type": "code",
   "execution_count": 4,
   "metadata": {},
   "outputs": [],
   "source": [
    "rotate_op = AugOper.RotateStandard(0.7, max_left_rotation = 12, max_right_rotation=12)\n",
    "zoom_op = AugOper.Zoom(0.7, min_factor=0.8, max_factor=1.2)\n",
    "distort_op = AugOper.Distort(0.7, grid_width=8, grid_height=8, magnitude=1)\n",
    "constrast_op = AugOper.RandomContrast(0.7, 0.8, 1.2)"
   ]
  },
  {
   "cell_type": "code",
   "execution_count": 5,
   "metadata": {},
   "outputs": [],
   "source": [
    "operations = [distort_op, zoom_op, rotate_op]"
   ]
  },
  {
   "cell_type": "code",
   "execution_count": 6,
   "metadata": {},
   "outputs": [],
   "source": [
    "def augmentation(image: Image, mask: Image):\n",
    "    r = round(random.uniform(0, 1), 2)\n",
    "    if r <= constrast_op.probability:\n",
    "        image = constrast_op.perform_operation([image])[0]\n",
    "\n",
    "    augmented_imgs = [image, mask]\n",
    "\n",
    "    for operation in operations:\n",
    "        r = round(random.uniform(0, 1), 2)\n",
    "        if r <= operation.probability:\n",
    "            augmented_imgs = operation.perform_operation(augmented_imgs)\n",
    "\n",
    "    return augmented_imgs\n",
    "\n"
   ]
  },
  {
   "cell_type": "code",
   "execution_count": 7,
   "metadata": {},
   "outputs": [],
   "source": [
    "subjects_imgs_dir = \"processed/images\"\n",
    "subjects_mask_dir = \"processed/masks\"\n",
    "\n",
    "save_imgs_dir = \"augmented/images/\"\n",
    "save_mask_dir = \"augmented/masks/\"\n",
    "\n",
    "\n",
    "for subject in os.listdir(subjects_imgs_dir):\n",
    "    current_subject_img_dir = os.path.join(subjects_imgs_dir, subject)\n",
    "    current_subject_mask_dir = os.path.join(subjects_mask_dir, subject)\n",
    "    mask_files = os.listdir(current_subject_mask_dir)\n",
    "\n",
    "    if not os.path.exists(os.path.join(save_imgs_dir, subject)):\n",
    "        os.mkdir(os.path.join(save_imgs_dir, subject))\n",
    "    \n",
    "    if not os.path.exists(os.path.join(save_mask_dir, subject)):\n",
    "        os.mkdir(os.path.join(save_mask_dir, subject))\n",
    "\n",
    "    for filename in os.listdir(current_subject_img_dir):\n",
    "        if not(filename in mask_files):\n",
    "            print(\"There is no a mask for {}\".filename)\n",
    "            continue\n",
    "\n",
    "        augmented_filename = filename.split(\".\")[0] + \"_AUG.png\"\n",
    "\n",
    "        image = Image.open(os.path.join(current_subject_img_dir, filename))\n",
    "        mask = Image.open(os.path.join(current_subject_mask_dir, filename))\n",
    "        image, mask = augmentation(image, mask)\n",
    "\n",
    "        image.save(os.path.join(save_imgs_dir, subject, augmented_filename))\n",
    "        mask.save(os.path.join(save_mask_dir, subject, augmented_filename))\n",
    "\n"
   ]
  },
  {
   "cell_type": "code",
   "execution_count": null,
   "metadata": {},
   "outputs": [],
   "source": []
  },
  {
   "cell_type": "code",
   "execution_count": null,
   "metadata": {},
   "outputs": [],
   "source": []
  }
 ]
}