{
 "metadata": {
  "language_info": {
   "codemirror_mode": {
    "name": "ipython",
    "version": 3
   },
   "file_extension": ".py",
   "mimetype": "text/x-python",
   "name": "python",
   "nbconvert_exporter": "python",
   "pygments_lexer": "ipython3",
   "version": "3.8.5-final"
  },
  "orig_nbformat": 2,
  "kernelspec": {
   "name": "python3",
   "display_name": "Python 3",
   "language": "python"
  }
 },
 "nbformat": 4,
 "nbformat_minor": 2,
 "cells": [
  {
   "cell_type": "code",
   "execution_count": 1,
   "metadata": {},
   "outputs": [],
   "source": [
    "import sklearn\n",
    "import numpy as np \n",
    "from PIL import Image, ImageFilter\n",
    "import os"
   ]
  },
  {
   "source": [
    "# Fix depth segmentation output (convert to mask image)"
   ],
   "cell_type": "markdown",
   "metadata": {}
  },
  {
   "cell_type": "code",
   "execution_count": 9,
   "metadata": {},
   "outputs": [],
   "source": [
    "depth_segmentation_dir = \"/home/abian/Workspace/Thesis/Segmentation/PointCloudSegmentation/Build/Release/result\"\n",
    "save_dir = \"/home/abian/Workspace/Thesis/Segmentation/DataTest/Segmentation/Depth/\""
   ]
  },
  {
   "cell_type": "code",
   "execution_count": 10,
   "metadata": {},
   "outputs": [],
   "source": [
    "for subject in os.listdir(depth_segmentation_dir):\n",
    "    subject_dir = os.path.join(depth_segmentation_dir, subject)\n",
    "    subject_save_dir = os.path.join(save_dir, subject)\n",
    "    if not os.path.exists(subject_save_dir):\n",
    "        os.mkdir(subject_save_dir)\n",
    "\n",
    "    for filename in os.listdir(subject_dir):\n",
    "        current_image_dir = os.path.join(subject_dir, filename)\n",
    "        img_np = np.array(Image.open(current_image_dir))\n",
    "        img_np[img_np>0] = 255\n",
    "        img = Image.fromarray(np.uint8(img_np)).convert('L')\n",
    "        img.save(os.path.join(subject_save_dir, filename))"
   ]
  },
  {
   "source": [
    "# Morphologic operation in Depth Mask"
   ],
   "cell_type": "markdown",
   "metadata": {}
  },
  {
   "cell_type": "code",
   "execution_count": 11,
   "metadata": {},
   "outputs": [],
   "source": [
    "depth_dir = save_dir"
   ]
  },
  {
   "cell_type": "code",
   "execution_count": 16,
   "metadata": {},
   "outputs": [],
   "source": [
    "from matplotlib import pyplot as plt\n",
    "\n",
    "for subject in os.listdir(depth_dir):\n",
    "    subject_dir = os.path.join(depth_dir, subject)\n",
    "    for filename in os.listdir(subject_dir):\n",
    "        img = Image.open(os.path.join(subject_dir, filename))\n",
    "        n_dilation = 5\n",
    "        n_erosion = n_dilation\n",
    "        for idx in range(n_dilation):\n",
    "            img = img.filter(ImageFilter.MaxFilter(3))\n",
    "        for idx in range(n_erosion):\n",
    "            img = img.filter(ImageFilter.MinFilter(3))\n",
    "\n",
    "        img.save(os.path.join(subject_dir, filename))\n",
    "        # plt.imshow(img)\n",
    "        # plt.show()"
   ]
  },
  {
   "source": [
    "# Masks"
   ],
   "cell_type": "markdown",
   "metadata": {}
  },
  {
   "cell_type": "code",
   "execution_count": 17,
   "metadata": {},
   "outputs": [],
   "source": [
    "masks_dir = \"/home/abian/Workspace/Thesis/Segmentation/DataTest/Masks_Average_STAPLE/\"\n",
    "masks = os.listdir(\"/home/abian/Workspace/Thesis/Segmentation/DataTest/Masks_Average_STAPLE/\")"
   ]
  },
  {
   "cell_type": "code",
   "execution_count": 18,
   "metadata": {},
   "outputs": [],
   "source": [
    "# Esta función es para unificar las máscaras que vienen separadas por pie\n",
    "def unifyImage(img1: Image, img2: Image) -> Image:\n",
    "    np_img1 = np.array(img1)\n",
    "    np_img2 = np.array(img2)\n",
    "    np_result = np.zeros(np_img1.shape, dtype=np.uint8)\n",
    "\n",
    "    np_result[np_img1>0] = 255\n",
    "    np_result[np_img2>0] = 255\n",
    "    return Image.fromarray(np_result)"
   ]
  },
  {
   "cell_type": "code",
   "execution_count": 78,
   "metadata": {},
   "outputs": [],
   "source": [
    "import re\n",
    "from sklearn.metrics import jaccard_score\n",
    "from scipy.spatial.distance import dice\n",
    "import pandas as pd\n",
    "\n",
    "subjects = sorted(os.listdir(depth_dir))\n",
    "\n",
    "# Create Dataframes \n",
    "index = sorted(os.listdir(depth_dir))\n",
    "columns = ['T0','T5']\n",
    "\n",
    "jaccard_df = pd.DataFrame(index=index, columns=columns, dtype=float)\n",
    "jaccard_df = jaccard_df.fillna(0) # with 0s rather than NaNs\n",
    "\n",
    "dice_df = pd.DataFrame(index=index, columns=columns, dtype=float)\n",
    "dice_df = dice_df.fillna(0) \n",
    "# -------------------\n",
    "\n",
    "for subject in subjects:\n",
    "    regex_pattern = \"({})(.*)([L|R]_T[0-9]+.png)\".format(subject)\n",
    "    r = re.compile(regex_pattern)\n",
    "    subject_masks = list(filter(r.match, masks))\n",
    "    \n",
    "    subject_dir = os.path.join(depth_dir, subject)\n",
    "    for filename in sorted(os.listdir(subject_dir)):\n",
    "        dataframe_column_idx = 'T0'\n",
    "        if \"_T5\" in filename:\n",
    "            dataframe_column_idx = 'T5'\n",
    "\n",
    "        regex_pattern = \"(.*)({})\".format(filename[filename.index(\"_T\"):])\n",
    "        r = re.compile(regex_pattern)\n",
    "        current_mask_files = list(filter(r.match, subject_masks))\n",
    "        current_mask = list(map(lambda x: Image.open(os.path.join(masks_dir, x)), current_mask_files))\n",
    "        \n",
    "        # Obtenemos la imagen con los dos pies en la misma imagen\n",
    "        mask = unifyImage(*current_mask).convert('L')\n",
    "        segmentation_result = Image.open(os.path.join(subject_dir, filename))\n",
    "        segmentation_result = segmentation_result.resize(mask.size)\n",
    "\n",
    "        np_mask = np.array(mask, dtype=np.uint) / 255\n",
    "        np_segmentation_result = np.array(segmentation_result, dtype=np.uint) / 255\n",
    "        np_segmentation_result[np_segmentation_result>0] = 1\n",
    "\n",
    "\n",
    "        jaccard_result = jaccard_score(np_mask.flatten(), np_segmentation_result.flatten())\n",
    "        dice_result = dice(np_mask.flatten(), np_segmentation_result.flatten())\n",
    "        jaccard_df.at[subject, dataframe_column_idx] = jaccard_result\n",
    "        dice_df.at[subject, dataframe_column_idx] = dice_result\n",
    "        # print(\"jaccard: {}\".format(jaccard_result))\n",
    "        # print(\"DICE Score: {}\".format(1 - dice_result))\n",
    "        # plt.imshow(mask)\n",
    "        # plt.show()\n",
    "        # plt.imshow(segmentation_result)\n",
    "        # plt.show()\n",
    "\n"
   ]
  },
  {
   "cell_type": "code",
   "execution_count": 79,
   "metadata": {},
   "outputs": [],
   "source": [
    "jaccard_df.to_csv(\"jaccard.csv\")"
   ]
  },
  {
   "cell_type": "code",
   "execution_count": 80,
   "metadata": {},
   "outputs": [],
   "source": [
    "dice_df.to_csv('dice.csv')"
   ]
  },
  {
   "cell_type": "code",
   "execution_count": null,
   "metadata": {},
   "outputs": [],
   "source": []
  }
 ]
}